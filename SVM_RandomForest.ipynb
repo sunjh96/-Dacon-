{
  "nbformat": 4,
  "nbformat_minor": 0,
  "metadata": {
    "colab": {
      "name": "SVM RandomForest.ipynb",
      "provenance": [],
      "collapsed_sections": []
    },
    "kernelspec": {
      "name": "python3",
      "display_name": "Python 3"
    },
    "language_info": {
      "name": "python"
    }
  },
  "cells": [
    {
      "cell_type": "code",
      "execution_count": 36,
      "metadata": {
        "colab": {
          "base_uri": "https://localhost:8080/"
        },
        "id": "DzEgSXDHL-9C",
        "outputId": "91843127-2190-4c2c-9db5-c47c725d0f24"
      },
      "outputs": [
        {
          "output_type": "stream",
          "name": "stdout",
          "text": [
            "Drive already mounted at /content/drive; to attempt to forcibly remount, call drive.mount(\"/content/drive\", force_remount=True).\n"
          ]
        }
      ],
      "source": [
        "from google.colab import drive\n",
        "drive.mount('/content/drive')"
      ]
    },
    {
      "cell_type": "code",
      "source": [
        "from sklearn.ensemble import RandomForestClassifier\n",
        "from sklearn.svm import SVC\n",
        "from sklearn.metrics import accuracy_score\n",
        "from sklearn.model_selection import GridSearchCV\n",
        "import pandas as pd\n",
        "import matplotlib.pyplot as plt\n",
        "import seaborn as sns\n",
        "\n",
        "import warnings\n",
        "warnings.filterwarnings('ignore')\n",
        "\n",
        "x_train = pd.read_csv(\"/content/drive/My Drive/data/x_train.csv\") # 저장 위치에서 파일 불러오기\n",
        "x_test = pd.read_csv(\"/content/drive/My Drive/data/x_test.csv\")\n",
        "y_train = pd.read_csv(\"/content/drive/My Drive/data/y_train.csv\")\n",
        "y_test = pd.read_csv(\"/content/drive/My Drive/data/y_test.csv\")"
      ],
      "metadata": {
        "id": "XlZA4pODMSBQ"
      },
      "execution_count": 72,
      "outputs": []
    },
    {
      "cell_type": "code",
      "source": [
        "params = { 'n_estimators' : [100, 500],\n",
        "           'max_features' : ['auto', 'sqrt', 'log2'],\n",
        "           'max_depth' : [8, 10, 12, 20]\n",
        "            }\n",
        "\n",
        "# RandomForestClassifier 객체 생성 후 GridSearchCV 수행\n",
        "# n_jobs = -1 을 지정하면 모든 CPU 코어를 이용해 학습 가능\n",
        "random_forest = RandomForestClassifier(random_state = 0, n_jobs = -1)\n",
        "grid_cv_rf = GridSearchCV(random_forest, param_grid = params, cv = 3, n_jobs = -1)\n",
        "grid_cv_rf.fit(x_train, y_train)\n",
        "\n",
        "print('최적 하이퍼 파라미터: ', grid_cv_rf.best_params_)\n",
        "print('최고 예측 정확도: {:.2f}'.format(grid_cv_rf.best_score_ * 100), \"%\")"
      ],
      "metadata": {
        "colab": {
          "base_uri": "https://localhost:8080/"
        },
        "id": "cfuT7N6-Odh7",
        "outputId": "8ce6348e-fc28-41e8-fcc9-9f6249654434"
      },
      "execution_count": 70,
      "outputs": [
        {
          "output_type": "stream",
          "name": "stdout",
          "text": [
            "최적 하이퍼 파라미터:  {'max_depth': 20, 'max_features': 'auto', 'n_estimators': 500}\n",
            "최고 예측 정확도: 63.06 %\n"
          ]
        }
      ]
    },
    {
      "cell_type": "code",
      "source": [
        "#위의 결과로 나온 최적 하이퍼 파라미터로 다시 모델을 학습하여 테스트 세트 데이터에서 예측 성능을 측정\n",
        "random_forest_grid = RandomForestClassifier(n_estimators = 50, \n",
        "                                max_depth = 20,\n",
        "                                random_state = 0,\n",
        "                                max_features = 'auto',\n",
        "                                n_jobs = -1)\n",
        "\n",
        "random_forest_grid.fit(x_train, y_train)\n",
        "random_forest_pred = random_forest_grid.predict(x_test)\n",
        "random_forest_accuracy_test = accuracy_score(y_test , random_forest_pred)\n",
        "\n",
        "print('The testing accuracy for Random Forest is: {:.2f}'.format(random_forest_accuracy_test * 100) , \"%\")"
      ],
      "metadata": {
        "colab": {
          "base_uri": "https://localhost:8080/"
        },
        "id": "up3OPDYROf0d",
        "outputId": "70377607-b6e8-46ee-e63b-9305dcabc81e"
      },
      "execution_count": 69,
      "outputs": [
        {
          "output_type": "stream",
          "name": "stdout",
          "text": [
            "The testing accuracy for Random Forest is: 65.82 %\n"
          ]
        }
      ]
    },
    {
      "cell_type": "code",
      "source": [
        "#Random Forest의 각 Feature의 중요도 시각화\n",
        "ftr_importances_values = random_forest_grid.feature_importances_\n",
        "ftr_importances = pd.Series(ftr_importances_values, index=x_train.columns)\n",
        "ftr_importances = ftr_importances.sort_values(ascending=False)\n",
        "\n",
        "plt.figure(figsize=(8, 6))\n",
        "plt.title('Feature Importances')\n",
        "sns.barplot(x=ftr_importances, y=ftr_importances.index)\n",
        "plt.show()"
      ],
      "metadata": {
        "colab": {
          "base_uri": "https://localhost:8080/",
          "height": 390
        },
        "id": "2-yZKG2elmI2",
        "outputId": "0680203a-9e1b-4253-f4f8-06bf8082e003"
      },
      "execution_count": 82,
      "outputs": [
        {
          "output_type": "display_data",
          "data": {
            "text/plain": [
              "<Figure size 576x432 with 1 Axes>"
            ],
            "image/png": "[encoded data removed]"
          },
          "metadata": {
            "needs_background": "light"
          }
        }
      ]
    },
    {
      "cell_type": "code",
      "source": [
        "params_svm = { 'C' : [0.001, 0.01, 0.1, 1, 10, 100],\n",
        "           'gamma' : [0.001, 0.01, 0.1, 1, 10, 100]\n",
        "            }\n",
        "\n",
        "# SVM 객체 생성 후 GridSearchCV 수행\n",
        "# n_jobs = -1 을 지정하면 모든 CPU 코어를 이용해 학습 가능\n",
        "svm = SVC()\n",
        "grid_cv_svm = GridSearchCV(svm, param_grid = params_svm, cv = 3, n_jobs = -1)\n",
        "grid_cv_svm.fit(x_train, y_train)\n",
        "\n",
        "print('최적 하이퍼 파라미터: ', grid_cv_svm.best_params_)\n",
        "print('최고 예측 정확도: {:.2f}'.format(grid_cv_svm.best_score_ * 100), \"%\")"
      ],
      "metadata": {
        "colab": {
          "base_uri": "https://localhost:8080/"
        },
        "id": "2-BvZqvIOppp",
        "outputId": "47340b71-56cd-477d-d68b-fc46408eac60"
      },
      "execution_count": 84,
      "outputs": [
        {
          "output_type": "stream",
          "name": "stdout",
          "text": [
            "최적 하이퍼 파라미터:  {'C': 10, 'gamma': 100}\n",
            "최고 예측 정확도: 58.36 %\n"
          ]
        }
      ]
    },
    {
      "cell_type": "code",
      "source": [
        "#위의 결과로 나온 최적 하이퍼 파라미터로 다시 모델을 학습하여 테스트 세트 데이터에서 예측 성능을 측정\n",
        "svm_grid = SVC(C = 10, gamma = 100)\n",
        "\n",
        "svm_grid.fit(x_train, y_train)\n",
        "svm_pred = svm_grid.predict(x_test)\n",
        "svm_accuracy_test = accuracy_score(y_test , svm_pred)\n",
        "\n",
        "print('The testing accuracy for Random Forest is: {:.2f}'.format(svm_accuracy_test * 100) , \"%\")"
      ],
      "metadata": {
        "colab": {
          "base_uri": "https://localhost:8080/"
        },
        "id": "m2jeEv4kdaKs",
        "outputId": "7743d020-522c-41c7-ac3d-beb898aaaaf8"
      },
      "execution_count": 85,
      "outputs": [
        {
          "output_type": "stream",
          "name": "stdout",
          "text": [
            "The testing accuracy for Random Forest is: 62.97 %\n"
          ]
        }
      ]
    }
  ]
}